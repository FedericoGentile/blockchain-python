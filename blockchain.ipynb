{
 "cells": [
  {
   "cell_type": "code",
   "execution_count": 31,
   "id": "d077dce3",
   "metadata": {},
   "outputs": [],
   "source": [
    "from hashlib import sha256\n",
    "import json\n",
    "\n",
    "class Block:\n",
    "    def __init__(self, index, timestamp, data, previous_hash=''):\n",
    "        self.index = index\n",
    "        self.timestamp = timestamp\n",
    "        self.data = data\n",
    "        self.previous_hash = previous_hash\n",
    "        self.hash = self.calculate_hash()\n",
    "        \n",
    "    def calculate_hash(self):\n",
    "        hash_str = str(self.index) + self.timestamp + self.data + self.previous_hash\n",
    "        return sha256(hash_str.encode('utf-8')).hexdigest()\n",
    "    \n",
    "    def content(self):\n",
    "        print(json.dumps(self.__dict__, indent=2, default=str))\n",
    "    \n",
    "    \n",
    "class BlockChain:\n",
    "    def __init__(self):\n",
    "        self.chain = [self.generate_genesis_block()]\n",
    "        \n",
    "    def generate_genesis_block(self):\n",
    "        return Block(0, '23/04/2021', 'Genesis Block')\n",
    "    \n",
    "    def add_block(self, new_block):\n",
    "        new_block.previous_hash = self.chain[-1].hash\n",
    "        new_block.hash = new_block.calculate_hash()\n",
    "        self.chain.append(new_block)\n",
    "        \n",
    "    def is_chain_valid(self):\n",
    "        for i in range(1, len(self.chain)):\n",
    "            current_block = self.chain[i]\n",
    "            previous_block = self.chain[i-1]\n",
    "            if current_block.hash != current_block.calculate_hash():\n",
    "                raise ValueError(f'current_block.hash != current_block.calculate_hash()')\n",
    "            elif current_block.previous_hash != previous_block.hash:\n",
    "                raise ValueError(f' current_block.previous_hash != previous_block.hash')\n",
    "        print('valid blockchain')\n",
    "        \n",
    "    def content(self):\n",
    "        for block in self.chain:\n",
    "            block.content()"
   ]
  },
  {
   "cell_type": "code",
   "execution_count": 32,
   "id": "eaafec39",
   "metadata": {},
   "outputs": [],
   "source": [
    "fede_chain = BlockChain()"
   ]
  },
  {
   "cell_type": "code",
   "execution_count": 33,
   "id": "7d31bfa0",
   "metadata": {},
   "outputs": [],
   "source": [
    "block1 = Block(1, '25/04/2021', 'transazione numero 1')\n",
    "fede_chain.add_block(block1)\n",
    "\n",
    "block2 = Block(2, '25/04/2021', 'transazione numero 2')\n",
    "fede_chain.add_block(block2)"
   ]
  },
  {
   "cell_type": "code",
   "execution_count": 34,
   "id": "c8b1fa20",
   "metadata": {},
   "outputs": [
    {
     "name": "stdout",
     "output_type": "stream",
     "text": [
      "valid blockchain\n"
     ]
    }
   ],
   "source": [
    "fede_chain.is_chain_valid()"
   ]
  },
  {
   "cell_type": "code",
   "execution_count": 35,
   "id": "85255258",
   "metadata": {},
   "outputs": [
    {
     "name": "stdout",
     "output_type": "stream",
     "text": [
      "{\n",
      "  \"index\": 0,\n",
      "  \"timestamp\": \"23/04/2021\",\n",
      "  \"data\": \"Genesis Block\",\n",
      "  \"previous_hash\": \"\",\n",
      "  \"hash\": \"136393234e8ae4fe23d596379eb8c3fa43507e611a77e9c35632a9092d84233c\"\n",
      "}\n",
      "{\n",
      "  \"index\": 1,\n",
      "  \"timestamp\": \"25/04/2021\",\n",
      "  \"data\": \"transazione numero 1\",\n",
      "  \"previous_hash\": \"136393234e8ae4fe23d596379eb8c3fa43507e611a77e9c35632a9092d84233c\",\n",
      "  \"hash\": \"f4519a35ac8c4f4d21a445031129fcbe2365bb3eedd33b7662aa72474655a395\"\n",
      "}\n",
      "{\n",
      "  \"index\": 2,\n",
      "  \"timestamp\": \"25/04/2021\",\n",
      "  \"data\": \"transazione numero 2\",\n",
      "  \"previous_hash\": \"f4519a35ac8c4f4d21a445031129fcbe2365bb3eedd33b7662aa72474655a395\",\n",
      "  \"hash\": \"f6babd9433b422ec593289c391a303f2170b962679cf648796f3400852c9e036\"\n",
      "}\n"
     ]
    }
   ],
   "source": [
    "fede_chain.content()"
   ]
  },
  {
   "cell_type": "code",
   "execution_count": null,
   "id": "75eccd88",
   "metadata": {},
   "outputs": [],
   "source": []
  }
 ],
 "metadata": {
  "kernelspec": {
   "display_name": "Python 3",
   "language": "python",
   "name": "python3"
  },
  "language_info": {
   "codemirror_mode": {
    "name": "ipython",
    "version": 3
   },
   "file_extension": ".py",
   "mimetype": "text/x-python",
   "name": "python",
   "nbconvert_exporter": "python",
   "pygments_lexer": "ipython3",
   "version": "3.7.6"
  }
 },
 "nbformat": 4,
 "nbformat_minor": 5
}
