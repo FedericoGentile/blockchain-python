{
 "cells": [
  {
   "cell_type": "code",
   "execution_count": 15,
   "id": "d077dce3",
   "metadata": {},
   "outputs": [],
   "source": [
    "from hashlib import sha256\n",
    "import json\n",
    "\n",
    "class Block:\n",
    "    def __init__(self, index, timestamp, data, previous_hash=''):\n",
    "        self.index = index\n",
    "        self.timestamp = timestamp\n",
    "        self.data = data\n",
    "        self.count = 0\n",
    "        self.previous_hash = previous_hash\n",
    "        self.hash = self.calculate_hash()\n",
    "        \n",
    "    def calculate_hash(self):\n",
    "        hash_str = str(self.index) + self.timestamp + self.data + self.previous_hash + str(self.count)\n",
    "        return sha256(hash_str.encode('utf-8')).hexdigest()\n",
    "    \n",
    "    def mining_block(self, difficulty):\n",
    "        while self.hash[0:difficulty] != '0'*difficulty:\n",
    "            self.count += 1\n",
    "            self.hash = self.calculate_hash()       \n",
    "        print(f'block mined!')\n",
    "    \n",
    "    def content(self):\n",
    "        print(json.dumps(self.__dict__, indent=2, default=str))\n",
    "    \n",
    "    \n",
    "class BlockChain:\n",
    "    def __init__(self):\n",
    "        self.chain = [self.generate_genesis_block()]\n",
    "        self.difficulty = 5\n",
    "        \n",
    "    def generate_genesis_block(self):\n",
    "        return Block(0, '23/04/2021', 'Genesis Block')\n",
    "    \n",
    "    def add_block(self, new_block):\n",
    "        new_block.previous_hash = self.chain[-1].hash\n",
    "        #new_block.hash = new_block.calculate_hash()\n",
    "        new_block.mining_block(self.difficulty)\n",
    "        self.chain.append(new_block)\n",
    "        \n",
    "    def is_chain_valid(self):\n",
    "        for i in range(1, len(self.chain)):\n",
    "            current_block = self.chain[i]\n",
    "            previous_block = self.chain[i-1]\n",
    "            if current_block.hash != current_block.calculate_hash():\n",
    "                raise ValueError(f'current_block.hash != current_block.calculate_hash()')\n",
    "            elif current_block.previous_hash != previous_block.hash:\n",
    "                raise ValueError(f' current_block.previous_hash != previous_block.hash')\n",
    "        print('valid blockchain')\n",
    "        \n",
    "    def content(self):\n",
    "        for block in self.chain:\n",
    "            block.content()"
   ]
  },
  {
   "cell_type": "code",
   "execution_count": 16,
   "id": "eaafec39",
   "metadata": {},
   "outputs": [],
   "source": [
    "fede_chain = BlockChain()"
   ]
  },
  {
   "cell_type": "code",
   "execution_count": 17,
   "id": "7d31bfa0",
   "metadata": {},
   "outputs": [
    {
     "name": "stdout",
     "output_type": "stream",
     "text": [
      "block mined!\n",
      "block mined!\n"
     ]
    }
   ],
   "source": [
    "block1 = Block(1, '25/04/2021', 'transazione numero 1')\n",
    "fede_chain.add_block(block1)\n",
    "\n",
    "block2 = Block(2, '25/04/2021', 'transazione numero 2')\n",
    "fede_chain.add_block(block2)"
   ]
  },
  {
   "cell_type": "code",
   "execution_count": 18,
   "id": "c8b1fa20",
   "metadata": {},
   "outputs": [
    {
     "name": "stdout",
     "output_type": "stream",
     "text": [
      "valid blockchain\n"
     ]
    }
   ],
   "source": [
    "fede_chain.is_chain_valid()"
   ]
  },
  {
   "cell_type": "code",
   "execution_count": 11,
   "id": "85255258",
   "metadata": {},
   "outputs": [
    {
     "name": "stdout",
     "output_type": "stream",
     "text": [
      "{\n",
      "  \"index\": 0,\n",
      "  \"timestamp\": \"23/04/2021\",\n",
      "  \"data\": \"Genesis Block\",\n",
      "  \"count\": 0,\n",
      "  \"previous_hash\": \"\",\n",
      "  \"hash\": \"dc5622576da89f39928c8a1766d7a410946cbf10e3a7b8bea6d3f6daee6079a3\"\n",
      "}\n",
      "{\n",
      "  \"index\": 1,\n",
      "  \"timestamp\": \"25/04/2021\",\n",
      "  \"data\": \"transazione numero 1\",\n",
      "  \"count\": 2388,\n",
      "  \"previous_hash\": \"dc5622576da89f39928c8a1766d7a410946cbf10e3a7b8bea6d3f6daee6079a3\",\n",
      "  \"hash\": \"0000187d7e67128a781f0de9528338174d97d498e4ce60ee515035ea3695b67e\"\n",
      "}\n",
      "{\n",
      "  \"index\": 2,\n",
      "  \"timestamp\": \"25/04/2021\",\n",
      "  \"data\": \"transazione numero 2\",\n",
      "  \"count\": 109302,\n",
      "  \"previous_hash\": \"0000187d7e67128a781f0de9528338174d97d498e4ce60ee515035ea3695b67e\",\n",
      "  \"hash\": \"00009384eaa94ad99f7b2a4c489149629f96c61d34d0b2795e47c33bada66b57\"\n",
      "}\n"
     ]
    }
   ],
   "source": [
    "fede_chain.content()"
   ]
  },
  {
   "cell_type": "code",
   "execution_count": null,
   "id": "cb59d575",
   "metadata": {},
   "outputs": [],
   "source": []
  }
 ],
 "metadata": {
  "kernelspec": {
   "display_name": "Python 3",
   "language": "python",
   "name": "python3"
  },
  "language_info": {
   "codemirror_mode": {
    "name": "ipython",
    "version": 3
   },
   "file_extension": ".py",
   "mimetype": "text/x-python",
   "name": "python",
   "nbconvert_exporter": "python",
   "pygments_lexer": "ipython3",
   "version": "3.7.6"
  }
 },
 "nbformat": 4,
 "nbformat_minor": 5
}
