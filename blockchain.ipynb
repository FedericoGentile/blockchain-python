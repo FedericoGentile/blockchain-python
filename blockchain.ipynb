{
 "cells": [
  {
   "cell_type": "code",
   "execution_count": 117,
   "id": "d077dce3",
   "metadata": {},
   "outputs": [],
   "source": [
    "from hashlib import sha256\n",
    "import json\n",
    "from ecdsa import SigningKey, VerifyingKey, SECP256k1\n",
    "from datetime import datetime\n",
    "import pickle\n",
    "\n",
    "class Transaction:\n",
    "    def __init__(self, from_address, to_address, amount):\n",
    "        self.from_address = from_address\n",
    "        self.to_address = to_address\n",
    "        self.amount = amount\n",
    "        \n",
    "    def calculate_hash(self):\n",
    "        hash_str = self.from_address + self.to_address + str(self.amount)\n",
    "        return sha256(hash_str.encode('utf-8')).hexdigest()\n",
    "        \n",
    "    def sign_transaction(self, signing_key):\n",
    "        signing_key = SigningKey.from_string(bytearray.fromhex(signing_key), curve=SECP256k1)\n",
    "        if signing_key.get_verifying_key().to_string().hex() != self.from_address:\n",
    "            raise ValueError('you cannot sign this transaction!')\n",
    "        hash_tr = self.calculate_hash()\n",
    "        self.signature = signing_key.sign(hash_tr.encode('utf-8')).hex()\n",
    "        \n",
    "    def is_valid(self):\n",
    "        if self.from_address == None:\n",
    "            return True\n",
    "        if self.signature == False or len(self.signature)==0:\n",
    "            raise ValueError('Missing signature!')\n",
    "        public_key = VerifyingKey.from_string(bytearray.fromhex(self.from_address), curve=SECP256k1)\n",
    "        try:\n",
    "            return public_key.verify(bytes.fromhex(self.signature), self.calculate_hash().encode('utf-8'))\n",
    "        except Exception as e:\n",
    "            print(e)\n",
    "            return False\n",
    "        \n",
    "\n",
    "class Block:\n",
    "    def __init__(self, timestamp, transactions, previous_hash=''):\n",
    "        self.timestamp = timestamp\n",
    "        self.transactions = transactions\n",
    "        self.count = 0\n",
    "        self.previous_hash = previous_hash\n",
    "        self.hash = self.calculate_hash()\n",
    "        \n",
    "    def calculate_hash(self):\n",
    "        if self.previous_hash != \"0\":\n",
    "            temp_transactions = [trans.__dict__ for trans in self.transactions]\n",
    "        else:\n",
    "            temp_transactions = self.transactions\n",
    "        hash_str = self.timestamp + json.dumps(temp_transactions) + self.previous_hash + str(self.count)\n",
    "        return sha256(hash_str.encode('utf-8')).hexdigest()\n",
    "    \n",
    "    def mining_block(self, difficulty):\n",
    "        while self.hash[0:difficulty] != '0'*difficulty:\n",
    "            self.count += 1\n",
    "            self.hash = self.calculate_hash()       \n",
    "        #print(f'block mined!')\n",
    "        \n",
    "    def has_valid_transactions(self):\n",
    "        for trans in self.__dict__['transactions']:\n",
    "            if trans.is_valid()==False:\n",
    "                return False\n",
    "        return True\n",
    "    \n",
    "    def content(self):\n",
    "        msg = self.__dict__.copy()\n",
    "        msg_transactions = []\n",
    "        for trans in msg['transactions']:\n",
    "            if self.previous_hash != '0':\n",
    "                msg_transactions.append(trans.__dict__)\n",
    "        msg['transactions'] = msg_transactions\n",
    "        print(json.dumps(msg, indent=2, default=str))\n",
    "        print('----------------------------------------------')\n",
    "    \n",
    "    \n",
    "class BlockChain:\n",
    "    def __init__(self):\n",
    "        self.chain = [self.generate_genesis_block()]\n",
    "        self.pending_transactions = []\n",
    "        self.reward = 100\n",
    "        self.difficulty = 3\n",
    "        \n",
    "    def generate_genesis_block(self):\n",
    "        return Block('23/04/2021', 'Genesis Block', \"0\")\n",
    "    \n",
    "    #def add_block(self, new_block):\n",
    "    #    new_block.previous_hash = self.chain[-1].hash\n",
    "    #    #new_block.hash = new_block.calculate_hash()\n",
    "    #    new_block.mining_block(self.difficulty)\n",
    "    #    self.chain.append(new_block)\n",
    "        \n",
    "    def mining_pending_transactions(self, mining_reward_address): \n",
    "        block = Block(datetime.now().strftime(\"%d/%m/%Y\"), self.pending_transactions)\n",
    "        self.pending_transactions.append(Transaction(None, mining_reward_address, self.reward))\n",
    "        block.previous_hash = self.chain[-1].hash\n",
    "        block.mining_block(self.difficulty)\n",
    "        print('blocked mined!')\n",
    "        self.chain.append(block)\n",
    "        self.pending_transactions = []\n",
    "        \n",
    "    def add_transactions(self, transaction):\n",
    "        if VerifyingKey.from_string(bytearray.fromhex(transaction.from_address), curve=SECP256k1) is None or VerifyingKey.from_string(bytearray.fromhex(transaction.to_address), curve=SECP256k1) is None:\n",
    "            raise ValueError('from address or to address are in the wrong format')\n",
    "        if transaction.is_valid()==False:\n",
    "            raise ValueError('you cannot add an invalid transaction to the block!')\n",
    "        self.pending_transactions.append(transaction)\n",
    "        \n",
    "    def get_balance(self, address):\n",
    "        balace = 0\n",
    "        for block in self.chain[1:]:\n",
    "            for trans in block.transactions:\n",
    "                trans = trans.__dict__\n",
    "                if trans['from_address'] == address:\n",
    "                    balace -= trans['amount']\n",
    "                elif trans['to_address'] == address:\n",
    "                    balace += trans ['amount']\n",
    "        return balace\n",
    "        \n",
    "    def is_chain_valid(self):\n",
    "        for i in range(1, len(self.chain)):\n",
    "            if i==0:\n",
    "                current_block = self.chain[i]\n",
    "                if current_block.previous_hash != \"0\":\n",
    "                    raise ValueError('previous hash of first block is not 0!!!')\n",
    "            else:\n",
    "                current_block = self.chain[i]\n",
    "                previous_block = self.chain[i-1]\n",
    "                if current_block.has_valid_transactions()==False:\n",
    "                    self.chain = pickle.load(open('chain', 'rb'))\n",
    "                    raise ValueError(f'current block {current_block.hash[0:8]} is not a valid transaction!')\n",
    "                if current_block.hash != current_block.calculate_hash():\n",
    "                    self.chain = pickle.load(open('chain', 'rb'))\n",
    "                    raise ValueError(f'current_block.hash != current_block.calculate_hash()')\n",
    "                elif current_block.previous_hash != previous_block.hash:\n",
    "                    self.chain = pickle.load(open('chain', 'rb'))\n",
    "                    raise ValueError(f' current_block.previous_hash != previous_block.hash')\n",
    "        pickle.dump(self.chain, open('chain','wb'))\n",
    "        print('valid blockchain')\n",
    "        \n",
    "    def content(self):\n",
    "        for block in self.chain:\n",
    "            block.content()"
   ]
  },
  {
   "cell_type": "code",
   "execution_count": 125,
   "id": "eaafec39",
   "metadata": {},
   "outputs": [],
   "source": [
    "fede_chain = BlockChain()"
   ]
  },
  {
   "cell_type": "code",
   "execution_count": 126,
   "id": "7d31bfa0",
   "metadata": {},
   "outputs": [],
   "source": [
    "private_key_marco = SigningKey.generate(SECP256k1)\n",
    "public_key_marco = private_key_marco.get_verifying_key()\n",
    "\n",
    "private_key_marco = private_key_marco.to_string().hex()\n",
    "public_key_marco = public_key_marco.to_string().hex()\n",
    "\n",
    "private_key_polo = SigningKey.generate(SECP256k1)\n",
    "public_key_polo = private_key_polo.get_verifying_key()\n",
    "\n",
    "private_key_polo = private_key_polo.to_string().hex()\n",
    "public_key_polo = public_key_polo.to_string().hex()\n",
    "\n",
    "private_key_mario = SigningKey.generate(SECP256k1)\n",
    "public_key_mario = private_key_mario.get_verifying_key()\n",
    "\n",
    "private_key_mario = private_key_mario.to_string().hex()\n",
    "public_key_mario = public_key_mario.to_string().hex()"
   ]
  },
  {
   "cell_type": "code",
   "execution_count": 127,
   "id": "c8b1fa20",
   "metadata": {},
   "outputs": [
    {
     "name": "stdout",
     "output_type": "stream",
     "text": [
      "blocked mined!\n"
     ]
    }
   ],
   "source": [
    "tx1 = Transaction(public_key_marco, public_key_polo, 100)\n",
    "tx1.sign_transaction(private_key_marco)\n",
    "fede_chain.add_transactions(tx1)\n",
    "\n",
    "tx2 = Transaction(public_key_polo, public_key_marco, 30)\n",
    "tx2.sign_transaction(private_key_polo)\n",
    "fede_chain.add_transactions(tx2)\n",
    "\n",
    "fede_chain.mining_pending_transactions(public_key_mario)"
   ]
  },
  {
   "cell_type": "code",
   "execution_count": 128,
   "id": "85255258",
   "metadata": {},
   "outputs": [
    {
     "name": "stdout",
     "output_type": "stream",
     "text": [
      "{\n",
      "  \"timestamp\": \"23/04/2021\",\n",
      "  \"transactions\": [],\n",
      "  \"count\": 0,\n",
      "  \"previous_hash\": \"0\",\n",
      "  \"hash\": \"f5fdb3e08b574038f23198910ba57061143daeabbf51b13baa17ec33e3295125\"\n",
      "}\n",
      "----------------------------------------------\n",
      "{\n",
      "  \"timestamp\": \"25/04/2021\",\n",
      "  \"transactions\": [\n",
      "    {\n",
      "      \"from_address\": \"79e4e8bc934c36c59ae8b0a4fa13b2da6ee52825f018943c958352d47108555d4c56aa306ac6fa571c13f52c3be59c71e2852dce73e785a310b6184f303e20a5\",\n",
      "      \"to_address\": \"6ff5ca1d3caaea0eb8aa17eaf5c78039bf98acf3b05e0a1d27a3531c9e7e701788f77b56d6bea5922dacb8a841132ad1c22200878dd99660ad5217623dbcbb48\",\n",
      "      \"amount\": 100,\n",
      "      \"signature\": \"2877a5bddafea9fd5488facdd16e5a5b38aefceb873fd5e3d965d73226342f9fe3336ce76e12ab9950f89293f92d9e5bb2764964b7a6d3f1df43292e8014f364\"\n",
      "    },\n",
      "    {\n",
      "      \"from_address\": \"6ff5ca1d3caaea0eb8aa17eaf5c78039bf98acf3b05e0a1d27a3531c9e7e701788f77b56d6bea5922dacb8a841132ad1c22200878dd99660ad5217623dbcbb48\",\n",
      "      \"to_address\": \"79e4e8bc934c36c59ae8b0a4fa13b2da6ee52825f018943c958352d47108555d4c56aa306ac6fa571c13f52c3be59c71e2852dce73e785a310b6184f303e20a5\",\n",
      "      \"amount\": 30,\n",
      "      \"signature\": \"708f55be32aa0d3c8660b74288284195c6f2365098f67f31d6d07ccb8b3f8b522b923577fcb062761ac361c6ecc2410f934d895bb30db2dd13ab88fb8799d3eb\"\n",
      "    },\n",
      "    {\n",
      "      \"from_address\": null,\n",
      "      \"to_address\": \"5715129db2e5bf6789315c8ac2ae86d6980167d5d4b162dee40ba89e32f7a15763dc28b40f3023ef6077f5ca080b41aaacac49ee9653c8985866899de84376b5\",\n",
      "      \"amount\": 100\n",
      "    }\n",
      "  ],\n",
      "  \"count\": 3174,\n",
      "  \"previous_hash\": \"f5fdb3e08b574038f23198910ba57061143daeabbf51b13baa17ec33e3295125\",\n",
      "  \"hash\": \"0000ec16c0dfa6c6023133898f189cb9156e88c11e280f4d2b875d4af119e69c\"\n",
      "}\n",
      "----------------------------------------------\n"
     ]
    }
   ],
   "source": [
    "fede_chain.content()"
   ]
  },
  {
   "cell_type": "code",
   "execution_count": 129,
   "id": "ff8a0270",
   "metadata": {},
   "outputs": [
    {
     "data": {
      "text/plain": [
       "-70"
      ]
     },
     "execution_count": 129,
     "metadata": {},
     "output_type": "execute_result"
    }
   ],
   "source": [
    "fede_chain.get_balance(public_key_marco)"
   ]
  },
  {
   "cell_type": "code",
   "execution_count": 133,
   "id": "cb59d575",
   "metadata": {},
   "outputs": [],
   "source": [
    "fede_chain.chain[1].transactions[0].amount = 200"
   ]
  },
  {
   "cell_type": "code",
   "execution_count": 136,
   "id": "c685aa3e",
   "metadata": {},
   "outputs": [
    {
     "name": "stdout",
     "output_type": "stream",
     "text": [
      "valid blockchain\n"
     ]
    }
   ],
   "source": [
    "fede_chain.is_chain_valid()"
   ]
  },
  {
   "cell_type": "code",
   "execution_count": 135,
   "id": "65d27f69",
   "metadata": {},
   "outputs": [
    {
     "name": "stdout",
     "output_type": "stream",
     "text": [
      "{\n",
      "  \"timestamp\": \"23/04/2021\",\n",
      "  \"transactions\": [],\n",
      "  \"count\": 0,\n",
      "  \"previous_hash\": \"0\",\n",
      "  \"hash\": \"f5fdb3e08b574038f23198910ba57061143daeabbf51b13baa17ec33e3295125\"\n",
      "}\n",
      "----------------------------------------------\n",
      "{\n",
      "  \"timestamp\": \"25/04/2021\",\n",
      "  \"transactions\": [\n",
      "    {\n",
      "      \"from_address\": \"79e4e8bc934c36c59ae8b0a4fa13b2da6ee52825f018943c958352d47108555d4c56aa306ac6fa571c13f52c3be59c71e2852dce73e785a310b6184f303e20a5\",\n",
      "      \"to_address\": \"6ff5ca1d3caaea0eb8aa17eaf5c78039bf98acf3b05e0a1d27a3531c9e7e701788f77b56d6bea5922dacb8a841132ad1c22200878dd99660ad5217623dbcbb48\",\n",
      "      \"amount\": 100,\n",
      "      \"signature\": \"2877a5bddafea9fd5488facdd16e5a5b38aefceb873fd5e3d965d73226342f9fe3336ce76e12ab9950f89293f92d9e5bb2764964b7a6d3f1df43292e8014f364\"\n",
      "    },\n",
      "    {\n",
      "      \"from_address\": \"6ff5ca1d3caaea0eb8aa17eaf5c78039bf98acf3b05e0a1d27a3531c9e7e701788f77b56d6bea5922dacb8a841132ad1c22200878dd99660ad5217623dbcbb48\",\n",
      "      \"to_address\": \"79e4e8bc934c36c59ae8b0a4fa13b2da6ee52825f018943c958352d47108555d4c56aa306ac6fa571c13f52c3be59c71e2852dce73e785a310b6184f303e20a5\",\n",
      "      \"amount\": 30,\n",
      "      \"signature\": \"708f55be32aa0d3c8660b74288284195c6f2365098f67f31d6d07ccb8b3f8b522b923577fcb062761ac361c6ecc2410f934d895bb30db2dd13ab88fb8799d3eb\"\n",
      "    },\n",
      "    {\n",
      "      \"from_address\": null,\n",
      "      \"to_address\": \"5715129db2e5bf6789315c8ac2ae86d6980167d5d4b162dee40ba89e32f7a15763dc28b40f3023ef6077f5ca080b41aaacac49ee9653c8985866899de84376b5\",\n",
      "      \"amount\": 100\n",
      "    }\n",
      "  ],\n",
      "  \"count\": 3174,\n",
      "  \"previous_hash\": \"f5fdb3e08b574038f23198910ba57061143daeabbf51b13baa17ec33e3295125\",\n",
      "  \"hash\": \"0000ec16c0dfa6c6023133898f189cb9156e88c11e280f4d2b875d4af119e69c\"\n",
      "}\n",
      "----------------------------------------------\n"
     ]
    }
   ],
   "source": [
    "fede_chain.content()"
   ]
  },
  {
   "cell_type": "code",
   "execution_count": null,
   "id": "c6e8cf69",
   "metadata": {},
   "outputs": [],
   "source": []
  }
 ],
 "metadata": {
  "kernelspec": {
   "display_name": "Python 3",
   "language": "python",
   "name": "python3"
  },
  "language_info": {
   "codemirror_mode": {
    "name": "ipython",
    "version": 3
   },
   "file_extension": ".py",
   "mimetype": "text/x-python",
   "name": "python",
   "nbconvert_exporter": "python",
   "pygments_lexer": "ipython3",
   "version": "3.7.6"
  }
 },
 "nbformat": 4,
 "nbformat_minor": 5
}
